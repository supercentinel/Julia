{
 "cells": [
  {
   "cell_type": "markdown",
   "id": "d09a93eb",
   "metadata": {},
   "source": [
    "# Imprimiendo a stdout"
   ]
  },
  {
   "cell_type": "code",
   "execution_count": 1,
   "id": "f1fbbc3d",
   "metadata": {},
   "outputs": [
    {
     "name": "stdout",
     "output_type": "stream",
     "text": [
      "HOHhogohoho\n"
     ]
    }
   ],
   "source": [
    "println(\"HOHhogohoho\")"
   ]
  },
  {
   "cell_type": "markdown",
   "id": "d54da2ff",
   "metadata": {},
   "source": [
    "# asignando variables"
   ]
  },
  {
   "cell_type": "markdown",
   "id": "3e7dea1a",
   "metadata": {},
   "source": [
    "Julia es un lenguaje de tipado dinamico"
   ]
  },
  {
   "cell_type": "code",
   "execution_count": 6,
   "id": "3e4883fa",
   "metadata": {},
   "outputs": [
    {
     "data": {
      "text/plain": [
       "Int64"
      ]
     },
     "execution_count": 6,
     "metadata": {},
     "output_type": "execute_result"
    }
   ],
   "source": [
    "asd = 12\n",
    "typeof(asd)"
   ]
  },
  {
   "cell_type": "code",
   "execution_count": 7,
   "id": "ef8bed09",
   "metadata": {},
   "outputs": [
    {
     "data": {
      "text/plain": [
       "Float64"
      ]
     },
     "execution_count": 7,
     "metadata": {},
     "output_type": "execute_result"
    }
   ],
   "source": [
    "flot = 12.42069\n",
    "typeof(flot)"
   ]
  },
  {
   "cell_type": "markdown",
   "id": "c79326e4",
   "metadata": {},
   "source": [
    "# Comentarios\n",
    "los comentarios de una sola linea en julia inician con \"#\"\n",
    "los comentarios de multiples lineas empiezan con \"#=\" y terminan con \"=#\""
   ]
  },
  {
   "cell_type": "code",
   "execution_count": 8,
   "id": "2ca634f5",
   "metadata": {},
   "outputs": [],
   "source": [
    "# Comentario de una sola linea\n",
    "#= \n",
    "comentario de \n",
    "multiples lineas\n",
    "=#"
   ]
  },
  {
   "cell_type": "code",
   "execution_count": null,
   "id": "d1940778",
   "metadata": {},
   "outputs": [],
   "source": []
  },
  {
   "cell_type": "code",
   "execution_count": null,
   "id": "3a0cd7e0",
   "metadata": {},
   "outputs": [],
   "source": []
  }
 ],
 "metadata": {
  "kernelspec": {
   "display_name": "Julia 1.8.5",
   "language": "julia",
   "name": "julia-1.8"
  },
  "language_info": {
   "file_extension": ".jl",
   "mimetype": "application/julia",
   "name": "julia",
   "version": "1.8.5"
  }
 },
 "nbformat": 4,
 "nbformat_minor": 5
}
